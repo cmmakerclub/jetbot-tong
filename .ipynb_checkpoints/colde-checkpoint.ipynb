{
 "cells": [
  {
   "cell_type": "code",
   "execution_count": null,
   "metadata": {},
   "outputs": [],
   "source": [
    "import cv2\n",
    "import numpy as np\n",
    "\n",
    "path_img = 'C:/Users/ER9X/Desktop/yolot/Yolo-digit-detector/rtong_dataset/datasettenten/tenten_ID79.jpg'\n",
    "frame  = cv2.imread(path_img)\n",
    "hsv = cv2.cvtColor(frame, cv2.COLOR_BGR2HSV)\n",
    "\n",
    "lower_blue = np.array([0, 76, 172])\n",
    "upper_blue = np.array([101, 159, 255])\n",
    "mask = cv2.inRange(hsv, lower_blue, upper_blue)\n",
    "result = cv2.bitwise_and(frame, frame, mask=mask)\n",
    "(contours,hierarchy)=cv2.findContours(mask,cv2.RETR_TREE,cv2.CHAIN_APPROX_SIMPLE)\n",
    "for pic, contour in enumerate(contours):\n",
    "    area = cv2.contourArea(contour)\n",
    "    if(area>50):\n",
    "        x,y,w,h = cv2.boundingRect(contour)\n",
    "        img123 = cv2.rectangle(frame,(x,y),(x+w,y+h),(0,255,0),2)\n",
    "\n",
    "cv2.imshow(\"mask\", img123)\n",
    "while True:\n",
    "    key = cv2.waitKey(1)\n",
    "    if cv2.waitKey(10) & 0xFF == ord('q'):\n",
    "        cv2.destroyAllWindows()\n",
    "        break\n"
   ]
  },
  {
   "cell_type": "code",
   "execution_count": null,
   "metadata": {},
   "outputs": [],
   "source": []
  }
 ],
 "metadata": {
  "kernelspec": {
   "display_name": "Python 3",
   "language": "python",
   "name": "python3"
  },
  "language_info": {
   "codemirror_mode": {
    "name": "ipython",
    "version": 3
   },
   "file_extension": ".py",
   "mimetype": "text/x-python",
   "name": "python",
   "nbconvert_exporter": "python",
   "pygments_lexer": "ipython3",
   "version": "3.6.9"
  }
 },
 "nbformat": 4,
 "nbformat_minor": 2
}
