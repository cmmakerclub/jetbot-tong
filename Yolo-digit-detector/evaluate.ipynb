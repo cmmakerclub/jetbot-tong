{
 "cells": [
  {
   "cell_type": "code",
   "execution_count": 1,
   "metadata": {},
   "outputs": [
    {
     "name": "stderr",
     "output_type": "stream",
     "text": [
      "Using TensorFlow backend.\n",
      "/usr/local/lib/python3.6/dist-packages/sklearn/utils/linear_assignment_.py:21: DeprecationWarning: The linear_assignment_ module is deprecated in 0.21 and will be removed from 0.23. Use scipy.optimize.linear_sum_assignment instead.\n",
      "  DeprecationWarning)\n"
     ]
    }
   ],
   "source": [
    "from warnings import simplefilter \n",
    "simplefilter(action='ignore', category=FutureWarning)\n",
    "import ipywidgets\n",
    "from IPython.display import display\n",
    "from jetcam.utils import bgr8_to_jpeg\n",
    "from jetcam.csi_camera import CSICamera\n",
    "\n",
    "import argparse\n",
    "import json\n",
    "import cv2\n",
    "import numpy as np\n",
    "\n",
    "from yolo.frontend import create_yolo\n",
    "from yolo.backend.utils.box import draw_scaled_boxes\n",
    "from yolo.backend.utils.annotation import parse_annotation\n",
    "from yolo.backend.utils.eval.fscore import count_true_positives, calc_score\n",
    "import yolo.backend.utils.box as box\n",
    "from pascal_voc_writer import Writer\n",
    "from shutil import copyfile\n",
    "import os\n",
    "import yolo\n",
    "import time\n",
    "\n",
    "\n",
    "DEFAULT_CONFIG_FILE = os.path.join(yolo.PROJECT_ROOT, \"svhn\", \"config.json\")\n",
    "DEFAULT_WEIGHT_FILE = os.path.join(yolo.PROJECT_ROOT, \"svhn\", \"weights.h5\")\n",
    "DEFAULT_THRESHOLD = 0.3\n"
   ]
  },
  {
   "cell_type": "code",
   "execution_count": 2,
   "metadata": {},
   "outputs": [
    {
     "name": "stdout",
     "output_type": "stream",
     "text": [
      "Model: \"model_2\"\n",
      "_________________________________________________________________\n",
      "Layer (type)                 Output Shape              Param #   \n",
      "=================================================================\n",
      "input_1 (InputLayer)         (None, 224, 224, 3)       0         \n",
      "_________________________________________________________________\n",
      "mobilenet_0.75_224 (Model)   (None, 7, 7, 768)         1832976   \n",
      "_________________________________________________________________\n",
      "detection_layer_50 (Conv2D)  (None, 7, 7, 50)          38450     \n",
      "_________________________________________________________________\n",
      "reshape_1 (Reshape)          (None, 7, 7, 5, 10)       0         \n",
      "=================================================================\n",
      "Total params: 1,871,426\n",
      "Trainable params: 1,855,010\n",
      "Non-trainable params: 16,416\n",
      "_________________________________________________________________\n",
      "Loading pre-trained weights in model.h5\n"
     ]
    }
   ],
   "source": [
    "\n",
    "\n",
    "with open('turn4/config.json') as config_buffer:\n",
    "    config = json.loads(config_buffer.read())\n",
    "\n",
    "# 2. create yolo instance & predict\n",
    "yolo = create_yolo(config['model']['architecture'],\n",
    "                   config['model']['labels'],\n",
    "                   config['model']['input_size'],\n",
    "                   config['model']['anchors'])\n",
    "yolo.load_weights('model.h5')\n",
    "\n"
   ]
  },
  {
   "cell_type": "code",
   "execution_count": null,
   "metadata": {},
   "outputs": [],
   "source": []
  },
  {
   "cell_type": "code",
   "execution_count": 3,
   "metadata": {},
   "outputs": [],
   "source": [
    "\n",
    "from IPython.display import clear_output"
   ]
  },
  {
   "cell_type": "code",
   "execution_count": 5,
   "metadata": {},
   "outputs": [],
   "source": [
    "camera = CSICamera(width=320, height=240, capture_fps=120)\n",
    "\n",
    "camera.running = True"
   ]
  },
  {
   "cell_type": "code",
   "execution_count": null,
   "metadata": {},
   "outputs": [],
   "source": []
  },
  {
   "cell_type": "code",
   "execution_count": 6,
   "metadata": {},
   "outputs": [
    {
     "data": {
      "application/vnd.jupyter.widget-view+json": {
       "model_id": "a59f14659d2d4098bfbef47bb6a31d46",
       "version_major": 2,
       "version_minor": 0
      },
      "text/plain": [
       "Image(value=b'\\xff\\xd8\\xff\\xe0\\x00\\x10JFIF\\x00\\x01\\x01\\x00\\x00\\x01\\x00\\x01\\x00\\x00\\xff\\xdb\\x00C\\x00\\x02\\x01\\x0…"
      ]
     },
     "metadata": {},
     "output_type": "display_data"
    },
    {
     "data": {
      "application/vnd.jupyter.widget-view+json": {
       "model_id": "21ba46bb7bf2460eac1d40ad560e4498",
       "version_major": 2,
       "version_minor": 0
      },
      "text/plain": [
       "Label(value='')"
      ]
     },
     "metadata": {},
     "output_type": "display_data"
    }
   ],
   "source": [
    "image = camera.value\n",
    "image_widget = ipywidgets.Image(format='jpeg')\n",
    "label_widget = ipywidgets.Label()\n",
    "image_widget.value = bgr8_to_jpeg(image)\n",
    "\n",
    "display(image_widget, label_widget)"
   ]
  },
  {
   "cell_type": "code",
   "execution_count": null,
   "metadata": {},
   "outputs": [],
   "source": [
    "timer = 0\n",
    "timer2 = 0\n",
    "while 1 :\n",
    "    timer2 = time.time()\n",
    "    image  = camera.value\n",
    "    image = image[8:8+224, 48:48+224]\n",
    "    boxes, probs = yolo.predict(image, float(0.6))\n",
    "    if len(boxes) == 0 :\n",
    "#         image = box.draw_scaled_boxes(image, boxes, probs, config['model']['labels'])\n",
    "        image_widget.value = bgr8_to_jpeg(image)\n",
    "#         label_widget.value = \"frame rates: \" + str(int(1/timer)) + \" fps\"\n",
    "        continue\n",
    "    tong2 = box.to_centroid(boxes)\n",
    "    # labels = np.argmax(probs, axis=1)\n",
    "    # if len(probs) > 0 else [] \n",
    "    timer = time.time() - timer2\n",
    "    \n",
    "    image = cv2.circle(image, (int(tong2[0][0]),int(tong2[0][1])), 3, (255, 0, 0), 3)\n",
    "    \n",
    "    image = box.draw_boxes(image, boxes, probs, config['model']['labels'])\n",
    "    image_widget.value = bgr8_to_jpeg(image)\n",
    "    label_widget.value = \"frame rates: \" + str(int(1/timer)) + \" fps\"\n",
    "#     clear_output()\n",
    "#     print(tong2)\n",
    "    \n"
   ]
  },
  {
   "cell_type": "code",
   "execution_count": null,
   "metadata": {},
   "outputs": [],
   "source": [
    "display(label)"
   ]
  },
  {
   "cell_type": "code",
   "execution_count": null,
   "metadata": {},
   "outputs": [],
   "source": []
  }
 ],
 "metadata": {
  "kernelspec": {
   "display_name": "Python 3",
   "language": "python",
   "name": "python3"
  },
  "language_info": {
   "codemirror_mode": {
    "name": "ipython",
    "version": 3
   },
   "file_extension": ".py",
   "mimetype": "text/x-python",
   "name": "python",
   "nbconvert_exporter": "python",
   "pygments_lexer": "ipython3",
   "version": "3.6.8"
  }
 },
 "nbformat": 4,
 "nbformat_minor": 4
}
